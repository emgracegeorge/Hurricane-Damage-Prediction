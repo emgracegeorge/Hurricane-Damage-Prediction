{
 "cells": [
  {
   "cell_type": "code",
   "execution_count": 2,
   "id": "1900124a-1b9d-4990-bcb3-1961172e3252",
   "metadata": {
    "tags": []
   },
   "outputs": [],
   "source": [
    "# The following is a program to estimate the damage to buildings using various risk factors: the strength\n",
    "# of the storm, the physical features of a building, and the assesed social vulnerability metric of\n",
    "# a given area. The events of Hurricane Harvey, ETC NEED TO LOOK UP are used in this case study.\n",
    "\n",
    "import pandas as pd\n",
    "import numpy as np\n",
    "\n",
    "df = pd.read_csv(\"frontiers_all.csv\")"
   ]
  },
  {
   "cell_type": "code",
   "execution_count": 3,
   "id": "de641d91-35b6-4259-ac23-205d5f86a1c0",
   "metadata": {
    "tags": []
   },
   "outputs": [],
   "source": [
    "# Clean and format data.\n",
    "\n",
    "# Drop null values.\n",
    "df = df.dropna()\n",
    "\n",
    "# Map the categorical data names for roof types to numbers so they can be used in the random\n",
    "# forest model.\n",
    "roof_shape_mapping = {'Gable': 1, 'Complex': 2, 'Hip': 3, 'Flat': 4, 'Gambrel': 5, 'Monoslope': 6, 'Other': 7}\n",
    "df['roof_shape_1'] = df['roof_shape_1'].map(roof_shape_mapping).fillna(df['roof_shape_1'])\n",
    "df['roof_shape_1'] = df['roof_shape_1'].astype('int64')\n",
    "\n",
    "# Replace values in the 'damage_rating' column to reduce the number of categories.\n",
    "df['damage_rating'].replace({2: 1, 4: 3}, inplace=True)"
   ]
  },
  {
   "cell_type": "code",
   "execution_count": 28,
   "id": "bdfdf90f-ab5f-4473-a858-36d1296660a8",
   "metadata": {},
   "outputs": [],
   "source": [
    "# Select training data for the damage estimate that does NOT include social vulnerability data.\n",
    "\n",
    "from sklearn.model_selection import train_test_split\n",
    "\n",
    "selected_columns = df[['damage_rating', 'design_exceeded_7_16', 'age', 'roof_shape_1', \n",
    "                    'dist_to_coast_m', 'density_100m', 'density_500m', 'surge_depth_ft']]\n",
    "\n",
    "X = selected_columns[['design_exceeded_7_16', 'age', 'roof_shape_1', \n",
    "                    'dist_to_coast_m', 'density_100m', 'density_500m', 'surge_depth_ft']]\n",
    "y = selected_columns['damage_rating']\n",
    "\n",
    "X_train, X_test, y_train, y_test = train_test_split(X, y, test_size=0.2, random_state=42)"
   ]
  },
  {
   "cell_type": "code",
   "execution_count": 29,
   "id": "18f32ffa-a5e9-4e60-9798-7673bdb04abd",
   "metadata": {},
   "outputs": [],
   "source": [
    "# Create Random Forest model and test on the test data that was set aside.\n",
    "\n",
    "from sklearn.ensemble import RandomForestClassifier\n",
    "\n",
    "model = RandomForestClassifier(n_estimators = 100, max_features=2, min_samples_split = 7)\n",
    "model.fit(X_train, y_train)\n",
    "y_predict = model.predict(X_test)"
   ]
  },
  {
   "cell_type": "code",
   "execution_count": 30,
   "id": "4fc8af76-71af-49f7-94c4-ead4bab152dd",
   "metadata": {
    "tags": []
   },
   "outputs": [
    {
     "name": "stdout",
     "output_type": "stream",
     "text": [
      "Classification Report----------\n",
      "              precision    recall  f1-score   support\n",
      "\n",
      "           0       0.77      0.50      0.60       123\n",
      "           1       0.73      0.89      0.80       288\n",
      "           3       0.69      0.55      0.61        99\n",
      "\n",
      "    accuracy                           0.73       510\n",
      "   macro avg       0.73      0.64      0.67       510\n",
      "weighted avg       0.73      0.73      0.72       510\n",
      "\n",
      "Confusion Matrix---------------\n",
      "    0    1   2\n",
      "0  61   57   5\n",
      "1  12  257  19\n",
      "2   6   39  54\n"
     ]
    }
   ],
   "source": [
    "# Print the results of the test using the classification report and confusion matrix\n",
    "\n",
    "from sklearn.metrics import classification_report, confusion_matrix\n",
    "\n",
    "\n",
    "print('Classification Report----------')\n",
    "print(classification_report(y_test, y_predict))\n",
    "\n",
    "report = classification_report(y_test, y_predict, output_dict = True) # Store the accuracy for comparison\n",
    "accuracy = report[\"accuracy\"]\n",
    "accuracy_comparison = pd.DataFrame(columns = [\"replication\", \"sovi\"])\n",
    "accuracy_comparison.loc[0, \"replication\"] = accuracy\n",
    "\n",
    "print('Confusion Matrix---------------')\n",
    "cm = pd.DataFrame(confusion_matrix(y_test, y_predict))\n",
    "print(cm)"
   ]
  },
  {
   "cell_type": "code",
   "execution_count": 31,
   "id": "a93e0246-ece4-4f28-b383-d80b520b40ca",
   "metadata": {},
   "outputs": [],
   "source": [
    "# Select training data for the damage estimate that DOES include social vulnerability data.\n",
    "\n",
    "from sklearn.model_selection import train_test_split\n",
    "\n",
    "selected_columns_sovi = df[['damage_rating', 'design_exceeded_7_16', 'age', 'roof_shape_1', \n",
    "                    'dist_to_coast_m', 'density_100m', 'density_500m','surge_depth_ft', 'RPL_THEMES']]\n",
    "\n",
    "X = selected_columns_sovi[['design_exceeded_7_16', 'age', 'roof_shape_1', \n",
    "                    'dist_to_coast_m', 'density_100m', 'density_500m','surge_depth_ft', 'RPL_THEMES']]\n",
    "y = selected_columns_sovi['damage_rating']\n",
    "\n",
    "X_train, X_test, y_train, y_test = train_test_split(X, y, test_size=0.2, random_state=42)"
   ]
  },
  {
   "cell_type": "code",
   "execution_count": 32,
   "id": "7e9c32ec-5b6b-47c1-a667-74c3e5607972",
   "metadata": {
    "tags": []
   },
   "outputs": [],
   "source": [
    "# Create Random Forest model and test on the test data that was set aside.\n",
    "\n",
    "from sklearn.ensemble import RandomForestClassifier\n",
    "\n",
    "model = RandomForestClassifier(n_estimators = 100, max_features=2, min_samples_split = 7)\n",
    "model.fit(X_train, y_train)\n",
    "y_predict = model.predict(X_test)"
   ]
  },
  {
   "cell_type": "code",
   "execution_count": 33,
   "id": "59c37f48-777e-41c6-82f8-702e0757e80f",
   "metadata": {
    "tags": []
   },
   "outputs": [
    {
     "name": "stdout",
     "output_type": "stream",
     "text": [
      "Classification Report----------\n",
      "              precision    recall  f1-score   support\n",
      "\n",
      "           0       0.77      0.50      0.61       123\n",
      "           1       0.74      0.90      0.81       288\n",
      "           3       0.71      0.57      0.63        99\n",
      "\n",
      "    accuracy                           0.74       510\n",
      "   macro avg       0.74      0.66      0.68       510\n",
      "weighted avg       0.74      0.74      0.73       510\n",
      "\n",
      "Confusion Matrix---------------\n",
      "    0    1   2\n",
      "0  62   56   5\n",
      "1  12  258  18\n",
      "2   7   36  56\n"
     ]
    }
   ],
   "source": [
    "# Print the results of the test using the classification report and confusion matrix\n",
    "\n",
    "from sklearn.metrics import classification_report, confusion_matrix\n",
    "\n",
    "\n",
    "print('Classification Report----------')\n",
    "print(classification_report(y_test, y_predict))\n",
    "\n",
    "report = classification_report(y_test, y_predict, output_dict = True) # Store the accuracy for comparison\n",
    "accuracy = report[\"accuracy\"]\n",
    "accuracy_comparison = pd.DataFrame(columns = [\"replication\", \"sovi\"])\n",
    "accuracy_comparison.loc[0, \"replication\"] = accuracy\n",
    "\n",
    "print('Confusion Matrix---------------')\n",
    "cm = pd.DataFrame(confusion_matrix(y_test, y_predict))\n",
    "print(cm)"
   ]
  },
  {
   "cell_type": "code",
   "execution_count": null,
   "id": "ec202b71-f605-4bd2-ba97-804ad8460241",
   "metadata": {},
   "outputs": [],
   "source": []
  }
 ],
 "metadata": {
  "kernelspec": {
   "display_name": "Python 3 (ipykernel)",
   "language": "python",
   "name": "python3"
  },
  "language_info": {
   "codemirror_mode": {
    "name": "ipython",
    "version": 3
   },
   "file_extension": ".py",
   "mimetype": "text/x-python",
   "name": "python",
   "nbconvert_exporter": "python",
   "pygments_lexer": "ipython3",
   "version": "3.11.3"
  }
 },
 "nbformat": 4,
 "nbformat_minor": 5
}
